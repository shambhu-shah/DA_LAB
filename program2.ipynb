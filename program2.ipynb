{
  "nbformat": 4,
  "nbformat_minor": 0,
  "metadata": {
    "colab": {
      "name": "Untitled0.ipynb",
      "provenance": [],
      "collapsed_sections": []
    },
    "kernelspec": {
      "name": "python3",
      "display_name": "Python 3"
    },
    "language_info": {
      "name": "python"
    }
  },
  "cells": [
    {
      "cell_type": "code",
      "metadata": {
        "id": "oeFpj3nfXcfh"
      },
      "source": [
        "#The prime factors of 13195 are 5, 7, 13 and 29. What is the largest prime factor of the number?\n",
        "euler <- function(n) {\n",
        "  if (n==1) return(NULL)\n",
        "  if (n==2) return(n)\n",
        "  l <- 2:n\n",
        "  i <- 1\n",
        "  p <- 2\n",
        "  while (p^2<=n) {\n",
        "    l <- l[l==p | l%%p!=0]\n",
        "    i <- i+1 \n",
        "    p <- l[i]\n",
        "  }\n",
        "  return(l)\n",
        "}\n",
        "\n",
        "prime.factors <- function (n) {\n",
        "  factors <- c() \n",
        "  primes <- esieve(floor(sqrt(n))) \n",
        "  d <- which(n%%primes == 0) \n",
        "  if (length(d) == 0) \n",
        "    return(n)\n",
        "  for (q in primes[d]) { \n",
        "    while (n%%q == 0) { \n",
        "      factors <- c(factors, q)\n",
        "      n <- n/q } } \n",
        "  if (n > 1) factors <- c(factors, n)\n",
        "  return(factors)\n",
        "}\n",
        "\n",
        "print(max(prime.factors(13195)))"
      ],
      "execution_count": null,
      "outputs": []
    },
    {
      "cell_type": "code",
      "metadata": {
        "id": "fb89nC6fZsSZ"
      },
      "source": [
        "#Q2. The sum of the squares of the first ten natural numbers is, 12+22+...+102=385 The square of the sum of the first ten natural numbers is, (1+2+...+10)2=552=3025 Hence the difference between the sum of the squares of the first ten natural numbers and the square of the sum is 3025−385=2640 .Find the difference between the sum of the squares of the first one hundred natural numbers and the square of the sum.\n",
        "\n",
        "sum=0;\n",
        "sq=0;\n",
        "res = 0;\n",
        "n = 10;\n",
        "\n",
        "sum = n*(n+1)/2;\n",
        "sq=(n*(n+1)*(2*n+1))/6;\n",
        "res=sum*sum-sq;\n",
        "print(res)\n"
      ],
      "execution_count": null,
      "outputs": []
    },
    {
      "cell_type": "code",
      "metadata": {
        "id": "B_M6uTKBhv1C"
      },
      "source": [
        "#A palindromic number reads the same both ways. The largest palindrome made from the product of two 2-digit numbers is 9009 = 91 × 99. Find the largest palindrome made from the product of two 3-digit numbers\n",
        "genNums <- function() {\n",
        "  empty <- list()\n",
        "  l <- c(100:999) #the question is only interested in three digit numbers.  Lowest three digit number is 100.\n",
        "  for (i in l){\n",
        "    result <- i * l  \n",
        "    empty <-  c(empty, result)  \n",
        "  }#end for loop\n",
        "  return(empty) \n",
        "}#end function\n",
        "\n",
        "findPalindromes <- function(){\n",
        "  full <- genNums()\n",
        "  pals <- list()\n",
        "  print(\"I made it through genNums\")\n",
        "  for (i in full){\n",
        "    if (i == rev(i)){\n",
        "    pals <- c(pals, i)\n",
        "    }\n",
        "  }#end for loop\n",
        "\n",
        "  maximum <-  max(pals)\n",
        "  print(c(\"The largest palindrome is \" + maximu))\n",
        "}#end function"
      ],
      "execution_count": null,
      "outputs": []
    }
  ]
}